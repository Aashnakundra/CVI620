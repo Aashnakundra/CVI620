{
 "cells": [
  {
   "cell_type": "code",
   "execution_count": null,
   "metadata": {},
   "outputs": [],
   "source": [
    "import importlib\n",
    "cv2 = importlib.import_module('cv2')\n",
    "print(cv2.__version__)"
   ]
  },
  {
   "cell_type": "code",
   "execution_count": null,
   "metadata": {},
   "outputs": [],
   "source": [
    "import cv2\n",
    "\n",
    "cap = cv2.VideoCapture(0) \n",
    "\n",
    "if not cap.isOpened():\n",
    "    print(\"Error: Could not open webcam.\")\n",
    "    exit()\n",
    "\n",
    "while True:\n",
    "    ret, frame = cap.read()  \n",
    "    if not ret:\n",
    "        break\n",
    "    cv2.imshow(\"Video\", frame)  \n",
    "\n",
    " \n",
    "    if cv2.waitKey(1) & 0xFF == ord('q'):\n",
    "        print(\"Closing video...\")\n",
    "        break\n",
    "\n",
    "cap.release()\n",
    "cv2.destroyAllWindows()\n",
    "cv2.waitKey(1) \n"
   ]
  },
  {
   "cell_type": "code",
   "execution_count": null,
   "metadata": {},
   "outputs": [],
   "source": [
    "import os\n",
    "cap = cv2.VideoCapture(0)  \n",
    "counter = 1  \n",
    "\n",
    "if not os.path.exists(\"snapshots\"):\n",
    "    os.makedirs(\"snapshots\")\n",
    "\n",
    "while True:\n",
    "    ret, frame = cap.read()\n",
    "    if not ret:\n",
    "        break\n",
    "    cv2.imshow(\"Video\", frame)\n",
    "\n",
    "    key = cv2.waitKey(1) & 0xFF\n",
    "    if key == ord('s'):\n",
    "        filename = f\"snapshots/image{counter}.jpg\"\n",
    "        cv2.imwrite(filename, frame)\n",
    "        print(f\"Saved: {filename}\")\n",
    "        counter += 1  \n",
    "\n",
    "    # Press 'q' to quit\n",
    "    if key == ord('q'):\n",
    "        break\n",
    "\n",
    "cap.release()\n",
    "cv2.destroyAllWindows()"
   ]
  },
  {
   "cell_type": "code",
   "execution_count": null,
   "metadata": {},
   "outputs": [],
   "source": [
    "import numpy as np\n",
    "import matplotlib.pyplot as plt\n",
    "\n",
    "image = cv2.imread(\"Tammy.jpg\")  \n",
    "image = cv2.cvtColor(image, cv2.COLOR_BGR2RGB) \n",
    "plt.imshow(image)\n",
    "plt.title(\"Original Image\")\n",
    "plt.axis(\"off\")\n",
    "plt.show()"
   ]
  },
  {
   "cell_type": "code",
   "execution_count": null,
   "metadata": {},
   "outputs": [],
   "source": [
    "bright_image = np.clip(image + 150, 0, 255)  \n",
    "\n",
    "plt.imshow(bright_image.astype(np.uint8))\n",
    "plt.title(\"Image with Brightness\")\n",
    "plt.axis(\"off\")\n",
    "plt.show()"
   ]
  },
  {
   "cell_type": "code",
   "execution_count": null,
   "metadata": {},
   "outputs": [],
   "source": [
    "contrast_image = np.clip(image * 0.5, 0, 255)  \n",
    "\n",
    "plt.imshow(contrast_image.astype(np.uint8))\n",
    "plt.title(\"Contrast Adjusted Image\")\n",
    "plt.axis(\"off\")\n",
    "plt.show()"
   ]
  },
  {
   "cell_type": "code",
   "execution_count": null,
   "metadata": {},
   "outputs": [],
   "source": [
    "image2 = cv2.imread(\"Sammy.jpg\")\n",
    "image2 = cv2.cvtColor(image2, cv2.COLOR_BGR2RGB)\n",
    "image2 = cv2.resize(image2, (image.shape[1], image.shape[0]))\n",
    "\n",
    "plt.imshow(image2)\n",
    "plt.title(\"Second Image\")\n",
    "plt.axis(\"off\")\n",
    "plt.show()"
   ]
  },
  {
   "cell_type": "code",
   "execution_count": null,
   "metadata": {},
   "outputs": [],
   "source": [
    "alpha = float(input(\"Enter blending factor (0 to 1): \"))  \n",
    "blended = cv2.addWeighted(image, 1 - alpha, image2, alpha, 0)\n",
    "\n",
    "plt.imshow(blended)\n",
    "plt.title(f\"Blended Image (alpha={alpha})\")\n",
    "plt.axis(\"off\")\n",
    "plt.show()"
   ]
  },
  {
   "cell_type": "code",
   "execution_count": 3,
   "metadata": {},
   "outputs": [],
   "source": [
    "import cv2\n",
    "import numpy as np\n",
    "\n",
    "image = np.ones((500, 500, 3), dtype=\"uint8\") * 255 \n",
    "\n",
    "cv2.rectangle(image, (100, 100), (400, 300), (0, 255, 0), thickness=4)\n",
    "\n",
    "cv2.imshow(\"Rectangle with Thickness 4\", image)\n",
    "cv2.waitKey(0)\n",
    "cv2.destroyAllWindows()"
   ]
  },
  {
   "cell_type": "code",
   "execution_count": 7,
   "metadata": {},
   "outputs": [],
   "source": [
    "cv2.rectangle(image, (100, 100), (400, 300), (0, 255, 0), thickness=-1)\n",
    "cv2.imshow(\"Thickness changed\", image)\n",
    "cv2.waitKey(0)\n",
    "cv2.destroyAllWindows()"
   ]
  },
  {
   "cell_type": "code",
   "execution_count": 6,
   "metadata": {},
   "outputs": [],
   "source": [
    "\n",
    "image = np.ones((500, 500, 3), dtype=\"uint8\") * 255\n",
    "\n",
    "cv2.rectangle(image, (100, 100), (400, 300), (0, 255, 0), thickness=-1)\n",
    "\n",
    "cv2.putText(image, \"Hi, Hello\", (140, 200), cv2.FONT_HERSHEY_SIMPLEX, 1, (255, 255, 255), 2)\n",
    "\n",
    "cv2.imshow(\"Rectangle with Text\", image)\n",
    "cv2.waitKey(0)\n",
    "cv2.destroyAllWindows()"
   ]
  }
 ],
 "metadata": {
  "kernelspec": {
   "display_name": ".venv",
   "language": "python",
   "name": "python3"
  },
  "language_info": {
   "codemirror_mode": {
    "name": "ipython",
    "version": 3
   },
   "file_extension": ".py",
   "mimetype": "text/x-python",
   "name": "python",
   "nbconvert_exporter": "python",
   "pygments_lexer": "ipython3",
   "version": "3.10.9"
  }
 },
 "nbformat": 4,
 "nbformat_minor": 2
}
